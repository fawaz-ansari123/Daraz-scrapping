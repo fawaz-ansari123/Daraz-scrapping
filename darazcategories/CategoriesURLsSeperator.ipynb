{
 "cells": [
  {
   "cell_type": "code",
   "execution_count": 9,
   "metadata": {},
   "outputs": [],
   "source": [
    "import pandas as pd\n",
    "import json\n",
    "import csv\n",
    "import pickle\n",
    "\n",
    "with open('F:/Darazdata/darazcategories/darazcategories/categories.json') as json_file:\n",
    "    categories = json.load(json_file)\n",
    "    \n",
    "Product_subcategories = categories[0]['product_subcategories']\n",
    "Subcategories_url = categories[0]['product_categoriesurl']\n",
    "\n",
    "Product_subcategories = categories[0]['product_subcategories']\n",
    "Subcategories_url = categories[0]['product_categoriesurl']\n",
    "for i in range(len(Subcategories_url)):\n",
    "    Subcategories_url[i] = \"https:\"+Subcategories_url[i]\n",
    "cats = dict(zip(Product_subcategories, Subcategories_url)) \n",
    "\n",
    "with open('F:/Darazdata/darazcategories/darazcategories/categoriesurl+name.pickle', 'wb') as f:\n",
    "    pickle.dump(cats, f)\n",
    "\n"
   ]
  },
  {
   "cell_type": "code",
   "execution_count": null,
   "metadata": {},
   "outputs": [],
   "source": []
  }
 ],
 "metadata": {
  "kernelspec": {
   "display_name": "Python 3",
   "language": "python",
   "name": "python3"
  },
  "language_info": {
   "codemirror_mode": {
    "name": "ipython",
    "version": 3
   },
   "file_extension": ".py",
   "mimetype": "text/x-python",
   "name": "python",
   "nbconvert_exporter": "python",
   "pygments_lexer": "ipython3",
   "version": "3.7.6"
  }
 },
 "nbformat": 4,
 "nbformat_minor": 4
}
